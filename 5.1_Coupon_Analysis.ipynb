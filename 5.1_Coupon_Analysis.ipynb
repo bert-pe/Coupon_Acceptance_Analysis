{
 "cells": [
  {
   "cell_type": "markdown",
   "metadata": {
    "id": "CcUT6Fon_qRE"
   },
   "source": [
    "### Required Assignment 5.1: Will the Customer Accept the Coupon?\n",
    "\n",
    "**Context**\n",
    "\n",
    "Imagine driving through town and a coupon is delivered to your cell phone for a restaurant near where you are driving. Would you accept that coupon and take a short detour to the restaurant? Would you accept the coupon but use it on a subsequent trip? Would you ignore the coupon entirely? What if the coupon was for a bar instead of a restaurant? What about a coffee house? Would you accept a bar coupon with a minor passenger in the car? What about if it was just you and your partner in the car? Would weather impact the rate of acceptance? What about the time of day?\n",
    "\n",
    "Obviously, proximity to the business is a factor on whether the coupon is delivered to the driver or not, but what are the factors that determine whether a driver accepts the coupon once it is delivered to them? How would you determine whether a driver is likely to accept a coupon?\n",
    "\n",
    "**Overview**\n",
    "\n",
    "The goal of this project is to use what you know about visualizations and probability distributions to distinguish between customers who accepted a driving coupon versus those that did not.\n",
    "\n",
    "**Data**\n",
    "\n",
    "This data comes to us from the UCI Machine Learning repository and was collected via a survey on Amazon Mechanical Turk. The survey describes different driving scenarios including the destination, current time, weather, passenger, etc., and then ask the person whether he will accept the coupon if he is the driver. Answers that the user will drive there ‘right away’ or ‘later before the coupon expires’ are labeled as ‘Y = 1’ and answers ‘no, I do not want the coupon’ are labeled as ‘Y = 0’.  There are five different types of coupons -- less expensive restaurants (under \\$20), coffee houses, carry out & take away, bar, and more expensive restaurants (\\$20 - $50)."
   ]
  },
  {
   "cell_type": "markdown",
   "metadata": {
    "id": "1wORvMBJ_qRF"
   },
   "source": [
    "**Deliverables**\n",
    "\n",
    "Your final product should be a brief report that highlights the differences between customers who did and did not accept the coupons.  To explore the data you will utilize your knowledge of plotting, statistical summaries, and visualization using Python. You will publish your findings in a public facing github repository as your first portfolio piece.\n",
    "\n",
    "\n",
    "\n"
   ]
  },
  {
   "cell_type": "markdown",
   "metadata": {
    "id": "pG6_Ym6q_qRG"
   },
   "source": [
    "### Data Description\n",
    "Keep in mind that these values mentioned below are average values.\n",
    "\n",
    "The attributes of this data set include:\n",
    "1. User attributes\n",
    "    -  Gender: male, female\n",
    "    -  Age: below 21, 21 to 25, 26 to 30, etc.\n",
    "    -  Marital Status: single, married partner, unmarried partner, or widowed\n",
    "    -  Number of children: 0, 1, or more than 1\n",
    "    -  Education: high school, bachelors degree, associates degree, or graduate degree\n",
    "    -  Occupation: architecture & engineering, business & financial, etc.\n",
    "    -  Annual income: less than \\\\$12500, \\\\$12500 - \\\\$24999, \\\\$25000 - \\\\$37499, etc.\n",
    "    -  Number of times that he/she goes to a bar: 0, less than 1, 1 to 3, 4 to 8 or greater than 8\n",
    "    -  Number of times that he/she buys takeaway food: 0, less than 1, 1 to 3, 4 to 8 or greater\n",
    "    than 8\n",
    "    -  Number of times that he/she goes to a coffee house: 0, less than 1, 1 to 3, 4 to 8 or\n",
    "    greater than 8\n",
    "    -  Number of times that he/she eats at a restaurant with average expense less than \\\\$20 per\n",
    "    person: 0, less than 1, 1 to 3, 4 to 8 or greater than 8\n",
    "    -  Number of times that he/she goes to a bar: 0, less than 1, 1 to 3, 4 to 8 or greater than 8\n",
    "    \n",
    "\n",
    "2. Contextual attributes\n",
    "    - Driving destination: home, work, or no urgent destination\n",
    "    - Location of user, coupon and destination: we provide a map to show the geographical\n",
    "    location of the user, destination, and the venue, and we mark the distance between each\n",
    "    two places with time of driving. The user can see whether the venue is in the same\n",
    "    direction as the destination.\n",
    "    - Weather: sunny, rainy, or snowy\n",
    "    - Temperature: 30F, 55F, or 80F\n",
    "    - Time: 10AM, 2PM, or 6PM\n",
    "    - Passenger: alone, partner, kid(s), or friend(s)\n",
    "\n",
    "\n",
    "3. Coupon attributes\n",
    "    - time before it expires: 2 hours or one day"
   ]
  },
  {
   "cell_type": "code",
   "execution_count": 102,
   "metadata": {
    "id": "dzNoP3o__qRG"
   },
   "outputs": [],
   "source": [
    "import matplotlib.pyplot as plt\n",
    "import seaborn as sns\n",
    "import pandas as pd\n",
    "import numpy as np"
   ]
  },
  {
   "cell_type": "markdown",
   "metadata": {
    "id": "Ct8pI1uE_qRG"
   },
   "source": [
    "### Problems\n",
    "\n",
    "Use the prompts below to get started with your data analysis.  \n",
    "\n",
    "1. Read in the `coupons.csv` file.\n",
    "\n",
    "\n"
   ]
  },
  {
   "cell_type": "code",
   "execution_count": 103,
   "metadata": {
    "id": "X0vbffYg_qRH"
   },
   "outputs": [],
   "source": [
    "data = pd.read_csv('data/coupons.csv')"
   ]
  },
  {
   "cell_type": "code",
   "execution_count": 104,
   "metadata": {
    "id": "TXofQ_DF_qRH",
    "outputId": "2fc96a2c-1112-4b54-f24f-dbb9bc88abfb"
   },
   "outputs": [
    {
     "data": {
      "text/html": [
       "<div>\n",
       "<style scoped>\n",
       "    .dataframe tbody tr th:only-of-type {\n",
       "        vertical-align: middle;\n",
       "    }\n",
       "\n",
       "    .dataframe tbody tr th {\n",
       "        vertical-align: top;\n",
       "    }\n",
       "\n",
       "    .dataframe thead th {\n",
       "        text-align: right;\n",
       "    }\n",
       "</style>\n",
       "<table border=\"1\" class=\"dataframe\">\n",
       "  <thead>\n",
       "    <tr style=\"text-align: right;\">\n",
       "      <th></th>\n",
       "      <th>destination</th>\n",
       "      <th>passanger</th>\n",
       "      <th>weather</th>\n",
       "      <th>temperature</th>\n",
       "      <th>time</th>\n",
       "      <th>coupon</th>\n",
       "      <th>expiration</th>\n",
       "      <th>gender</th>\n",
       "      <th>age</th>\n",
       "      <th>maritalStatus</th>\n",
       "      <th>...</th>\n",
       "      <th>CoffeeHouse</th>\n",
       "      <th>CarryAway</th>\n",
       "      <th>RestaurantLessThan20</th>\n",
       "      <th>Restaurant20To50</th>\n",
       "      <th>toCoupon_GEQ5min</th>\n",
       "      <th>toCoupon_GEQ15min</th>\n",
       "      <th>toCoupon_GEQ25min</th>\n",
       "      <th>direction_same</th>\n",
       "      <th>direction_opp</th>\n",
       "      <th>Y</th>\n",
       "    </tr>\n",
       "  </thead>\n",
       "  <tbody>\n",
       "    <tr>\n",
       "      <th>0</th>\n",
       "      <td>No Urgent Place</td>\n",
       "      <td>Alone</td>\n",
       "      <td>Sunny</td>\n",
       "      <td>55</td>\n",
       "      <td>2PM</td>\n",
       "      <td>Restaurant(&lt;20)</td>\n",
       "      <td>1d</td>\n",
       "      <td>Female</td>\n",
       "      <td>21</td>\n",
       "      <td>Unmarried partner</td>\n",
       "      <td>...</td>\n",
       "      <td>never</td>\n",
       "      <td>NaN</td>\n",
       "      <td>4~8</td>\n",
       "      <td>1~3</td>\n",
       "      <td>1</td>\n",
       "      <td>0</td>\n",
       "      <td>0</td>\n",
       "      <td>0</td>\n",
       "      <td>1</td>\n",
       "      <td>1</td>\n",
       "    </tr>\n",
       "    <tr>\n",
       "      <th>1</th>\n",
       "      <td>No Urgent Place</td>\n",
       "      <td>Friend(s)</td>\n",
       "      <td>Sunny</td>\n",
       "      <td>80</td>\n",
       "      <td>10AM</td>\n",
       "      <td>Coffee House</td>\n",
       "      <td>2h</td>\n",
       "      <td>Female</td>\n",
       "      <td>21</td>\n",
       "      <td>Unmarried partner</td>\n",
       "      <td>...</td>\n",
       "      <td>never</td>\n",
       "      <td>NaN</td>\n",
       "      <td>4~8</td>\n",
       "      <td>1~3</td>\n",
       "      <td>1</td>\n",
       "      <td>0</td>\n",
       "      <td>0</td>\n",
       "      <td>0</td>\n",
       "      <td>1</td>\n",
       "      <td>0</td>\n",
       "    </tr>\n",
       "    <tr>\n",
       "      <th>2</th>\n",
       "      <td>No Urgent Place</td>\n",
       "      <td>Friend(s)</td>\n",
       "      <td>Sunny</td>\n",
       "      <td>80</td>\n",
       "      <td>10AM</td>\n",
       "      <td>Carry out &amp; Take away</td>\n",
       "      <td>2h</td>\n",
       "      <td>Female</td>\n",
       "      <td>21</td>\n",
       "      <td>Unmarried partner</td>\n",
       "      <td>...</td>\n",
       "      <td>never</td>\n",
       "      <td>NaN</td>\n",
       "      <td>4~8</td>\n",
       "      <td>1~3</td>\n",
       "      <td>1</td>\n",
       "      <td>1</td>\n",
       "      <td>0</td>\n",
       "      <td>0</td>\n",
       "      <td>1</td>\n",
       "      <td>1</td>\n",
       "    </tr>\n",
       "    <tr>\n",
       "      <th>3</th>\n",
       "      <td>No Urgent Place</td>\n",
       "      <td>Friend(s)</td>\n",
       "      <td>Sunny</td>\n",
       "      <td>80</td>\n",
       "      <td>2PM</td>\n",
       "      <td>Coffee House</td>\n",
       "      <td>2h</td>\n",
       "      <td>Female</td>\n",
       "      <td>21</td>\n",
       "      <td>Unmarried partner</td>\n",
       "      <td>...</td>\n",
       "      <td>never</td>\n",
       "      <td>NaN</td>\n",
       "      <td>4~8</td>\n",
       "      <td>1~3</td>\n",
       "      <td>1</td>\n",
       "      <td>1</td>\n",
       "      <td>0</td>\n",
       "      <td>0</td>\n",
       "      <td>1</td>\n",
       "      <td>0</td>\n",
       "    </tr>\n",
       "    <tr>\n",
       "      <th>4</th>\n",
       "      <td>No Urgent Place</td>\n",
       "      <td>Friend(s)</td>\n",
       "      <td>Sunny</td>\n",
       "      <td>80</td>\n",
       "      <td>2PM</td>\n",
       "      <td>Coffee House</td>\n",
       "      <td>1d</td>\n",
       "      <td>Female</td>\n",
       "      <td>21</td>\n",
       "      <td>Unmarried partner</td>\n",
       "      <td>...</td>\n",
       "      <td>never</td>\n",
       "      <td>NaN</td>\n",
       "      <td>4~8</td>\n",
       "      <td>1~3</td>\n",
       "      <td>1</td>\n",
       "      <td>1</td>\n",
       "      <td>0</td>\n",
       "      <td>0</td>\n",
       "      <td>1</td>\n",
       "      <td>0</td>\n",
       "    </tr>\n",
       "  </tbody>\n",
       "</table>\n",
       "<p>5 rows × 26 columns</p>\n",
       "</div>"
      ],
      "text/plain": [
       "       destination  passanger weather  temperature  time  \\\n",
       "0  No Urgent Place      Alone   Sunny           55   2PM   \n",
       "1  No Urgent Place  Friend(s)   Sunny           80  10AM   \n",
       "2  No Urgent Place  Friend(s)   Sunny           80  10AM   \n",
       "3  No Urgent Place  Friend(s)   Sunny           80   2PM   \n",
       "4  No Urgent Place  Friend(s)   Sunny           80   2PM   \n",
       "\n",
       "                  coupon expiration  gender age      maritalStatus  ...  \\\n",
       "0        Restaurant(<20)         1d  Female  21  Unmarried partner  ...   \n",
       "1           Coffee House         2h  Female  21  Unmarried partner  ...   \n",
       "2  Carry out & Take away         2h  Female  21  Unmarried partner  ...   \n",
       "3           Coffee House         2h  Female  21  Unmarried partner  ...   \n",
       "4           Coffee House         1d  Female  21  Unmarried partner  ...   \n",
       "\n",
       "   CoffeeHouse CarryAway RestaurantLessThan20 Restaurant20To50  \\\n",
       "0        never       NaN                  4~8              1~3   \n",
       "1        never       NaN                  4~8              1~3   \n",
       "2        never       NaN                  4~8              1~3   \n",
       "3        never       NaN                  4~8              1~3   \n",
       "4        never       NaN                  4~8              1~3   \n",
       "\n",
       "  toCoupon_GEQ5min toCoupon_GEQ15min toCoupon_GEQ25min direction_same  \\\n",
       "0                1                 0                 0              0   \n",
       "1                1                 0                 0              0   \n",
       "2                1                 1                 0              0   \n",
       "3                1                 1                 0              0   \n",
       "4                1                 1                 0              0   \n",
       "\n",
       "  direction_opp  Y  \n",
       "0             1  1  \n",
       "1             1  0  \n",
       "2             1  1  \n",
       "3             1  0  \n",
       "4             1  0  \n",
       "\n",
       "[5 rows x 26 columns]"
      ]
     },
     "execution_count": 104,
     "metadata": {},
     "output_type": "execute_result"
    }
   ],
   "source": [
    "data.head()"
   ]
  },
  {
   "cell_type": "markdown",
   "metadata": {
    "id": "GcDs78ZH_qRH"
   },
   "source": [
    "2. Investigate the dataset for missing or problematic data."
   ]
  },
  {
   "cell_type": "code",
   "execution_count": 105,
   "metadata": {
    "id": "6CwL6oWj_qRH",
    "scrolled": true
   },
   "outputs": [
    {
     "name": "stdout",
     "output_type": "stream",
     "text": [
      "<class 'pandas.core.frame.DataFrame'>\n",
      "RangeIndex: 12684 entries, 0 to 12683\n",
      "Data columns (total 26 columns):\n",
      " #   Column                Non-Null Count  Dtype \n",
      "---  ------                --------------  ----- \n",
      " 0   destination           12684 non-null  object\n",
      " 1   passanger             12684 non-null  object\n",
      " 2   weather               12684 non-null  object\n",
      " 3   temperature           12684 non-null  int64 \n",
      " 4   time                  12684 non-null  object\n",
      " 5   coupon                12684 non-null  object\n",
      " 6   expiration            12684 non-null  object\n",
      " 7   gender                12684 non-null  object\n",
      " 8   age                   12684 non-null  object\n",
      " 9   maritalStatus         12684 non-null  object\n",
      " 10  has_children          12684 non-null  int64 \n",
      " 11  education             12684 non-null  object\n",
      " 12  occupation            12684 non-null  object\n",
      " 13  income                12684 non-null  object\n",
      " 14  car                   108 non-null    object\n",
      " 15  Bar                   12577 non-null  object\n",
      " 16  CoffeeHouse           12467 non-null  object\n",
      " 17  CarryAway             12533 non-null  object\n",
      " 18  RestaurantLessThan20  12554 non-null  object\n",
      " 19  Restaurant20To50      12495 non-null  object\n",
      " 20  toCoupon_GEQ5min      12684 non-null  int64 \n",
      " 21  toCoupon_GEQ15min     12684 non-null  int64 \n",
      " 22  toCoupon_GEQ25min     12684 non-null  int64 \n",
      " 23  direction_same        12684 non-null  int64 \n",
      " 24  direction_opp         12684 non-null  int64 \n",
      " 25  Y                     12684 non-null  int64 \n",
      "dtypes: int64(8), object(18)\n",
      "memory usage: 2.5+ MB\n"
     ]
    }
   ],
   "source": [
    "# Examine the size of the data set along with a general sense of how much is missing\n",
    "data.info()\n"
   ]
  },
  {
   "cell_type": "code",
   "execution_count": 106,
   "metadata": {
    "id": "6CwL6oWj_qRH"
   },
   "outputs": [],
   "source": [
    "\n",
    "# Observations from data.info() above:\n",
    "# Many columns have no missing data since their non-Null count = RangeIndex\n",
    "# The 'car' column is mostly null so unlikely it can be used.\n",
    "# Some missing data: Bar,CoffeeHouse,CarryAway,RestaurantLessThan20,Restaurant20To50\n"
   ]
  },
  {
   "cell_type": "code",
   "execution_count": 107,
   "metadata": {
    "id": "6CwL6oWj_qRH"
   },
   "outputs": [
    {
     "name": "stdout",
     "output_type": "stream",
     "text": [
      "\n",
      "Rows with at least one empty string: 0\n",
      "\n"
     ]
    }
   ],
   "source": [
    "\n",
    "# Let's see if there are any rows with empty strings:\n",
    "total_empty_rows = (data == '').any(axis=1).sum()\n",
    "print()\n",
    "print(\"Rows with at least one empty string:\", total_empty_rows)\n",
    "print()"
   ]
  },
  {
   "cell_type": "code",
   "execution_count": 108,
   "metadata": {
    "id": "6CwL6oWj_qRH"
   },
   "outputs": [
    {
     "name": "stdout",
     "output_type": "stream",
     "text": [
      "\n",
      "Column: destination\n",
      "Number of distinct values (including NaN): 3\n",
      "ALL values: ['No Urgent Place' 'Home' 'Work']\n",
      "\n",
      "Column: passanger\n",
      "Number of distinct values (including NaN): 4\n",
      "ALL values: ['Alone' 'Friend(s)' 'Kid(s)' 'Partner']\n",
      "\n",
      "Column: weather\n",
      "Number of distinct values (including NaN): 3\n",
      "ALL values: ['Sunny' 'Rainy' 'Snowy']\n",
      "\n",
      "Column: temperature\n",
      "Number of distinct values (including NaN): 3\n",
      "ALL values: [55 80 30]\n",
      "\n",
      "Column: time\n",
      "Number of distinct values (including NaN): 5\n",
      "ALL values: ['2PM' '10AM' '6PM' '7AM' '10PM']\n",
      "\n",
      "Column: coupon\n",
      "Number of distinct values (including NaN): 5\n",
      "ALL values: ['Restaurant(<20)' 'Coffee House' 'Carry out & Take away' 'Bar'\n",
      " 'Restaurant(20-50)']\n",
      "\n",
      "Column: expiration\n",
      "Number of distinct values (including NaN): 2\n",
      "ALL values: ['1d' '2h']\n",
      "\n",
      "Column: gender\n",
      "Number of distinct values (including NaN): 2\n",
      "ALL values: ['Female' 'Male']\n",
      "\n",
      "Column: age\n",
      "Number of distinct values (including NaN): 8\n",
      "ALL values: ['21' '46' '26' '31' '41' '50plus' '36' 'below21']\n",
      "\n",
      "Column: maritalStatus\n",
      "Number of distinct values (including NaN): 5\n",
      "ALL values: ['Unmarried partner' 'Single' 'Married partner' 'Divorced' 'Widowed']\n",
      "\n",
      "Column: has_children\n",
      "Number of distinct values (including NaN): 2\n",
      "ALL values: [1 0]\n",
      "\n",
      "Column: education\n",
      "Number of distinct values (including NaN): 6\n",
      "ALL values: ['Some college - no degree' 'Bachelors degree' 'Associates degree'\n",
      " 'High School Graduate' 'Graduate degree (Masters or Doctorate)'\n",
      " 'Some High School']\n",
      "\n",
      "Column: occupation\n",
      "Number of distinct values (including NaN): 25\n",
      "10 sample values: ['Unemployed' 'Architecture & Engineering' 'Student'\n",
      " 'Education&Training&Library' 'Healthcare Support'\n",
      " 'Healthcare Practitioners & Technical' 'Sales & Related' 'Management'\n",
      " 'Arts Design Entertainment Sports & Media' 'Computer & Mathematical']\n",
      "\n",
      "Column: income\n",
      "Number of distinct values (including NaN): 9\n",
      "ALL values: ['$37500 - $49999' '$62500 - $74999' '$12500 - $24999' '$75000 - $87499'\n",
      " '$50000 - $62499' '$25000 - $37499' '$100000 or More' '$87500 - $99999'\n",
      " 'Less than $12500']\n",
      "\n",
      "Column: car\n",
      "Number of distinct values (including NaN): 6\n",
      "ALL values: [nan 'Scooter and motorcycle' 'crossover' 'Mazda5' 'do not drive'\n",
      " 'Car that is too old to install Onstar :D']\n",
      "\n",
      "Column: Bar\n",
      "Number of distinct values (including NaN): 6\n",
      "ALL values: ['never' 'less1' '1~3' 'gt8' nan '4~8']\n",
      "\n",
      "Column: CoffeeHouse\n",
      "Number of distinct values (including NaN): 6\n",
      "ALL values: ['never' 'less1' '4~8' '1~3' 'gt8' nan]\n",
      "\n",
      "Column: CarryAway\n",
      "Number of distinct values (including NaN): 6\n",
      "ALL values: [nan '4~8' '1~3' 'gt8' 'less1' 'never']\n",
      "\n",
      "Column: RestaurantLessThan20\n",
      "Number of distinct values (including NaN): 6\n",
      "ALL values: ['4~8' '1~3' 'less1' 'gt8' nan 'never']\n",
      "\n",
      "Column: Restaurant20To50\n",
      "Number of distinct values (including NaN): 6\n",
      "ALL values: ['1~3' 'less1' 'never' 'gt8' '4~8' nan]\n",
      "\n",
      "Column: toCoupon_GEQ5min\n",
      "Number of distinct values (including NaN): 1\n",
      "ALL values: [1]\n",
      "\n",
      "Column: toCoupon_GEQ15min\n",
      "Number of distinct values (including NaN): 2\n",
      "ALL values: [0 1]\n",
      "\n",
      "Column: toCoupon_GEQ25min\n",
      "Number of distinct values (including NaN): 2\n",
      "ALL values: [0 1]\n",
      "\n",
      "Column: direction_same\n",
      "Number of distinct values (including NaN): 2\n",
      "ALL values: [0 1]\n",
      "\n",
      "Column: direction_opp\n",
      "Number of distinct values (including NaN): 2\n",
      "ALL values: [1 0]\n",
      "\n",
      "Column: Y\n",
      "Number of distinct values (including NaN): 2\n",
      "ALL values: [1 0]\n"
     ]
    }
   ],
   "source": [
    "\n",
    "# Let's see what unique values lie in each column to spot problematic data\n",
    "\n",
    "# Loop through every column\n",
    "for col in data.columns:\n",
    "    unique_vals = data[col].unique()\n",
    "    n_unique = data[col].nunique(dropna=False)\n",
    "\n",
    "    # Print the column name and a total number of distinct/different values\n",
    "    print(f\"\\nColumn: {col}\")\n",
    "    print(f\"Number of distinct values (including NaN): {n_unique}\")\n",
    "\n",
    "    # If the number of unique values are more than 10 then print a sample of 10,\n",
    "    # otherwise print all the values up to an including 10 of them\n",
    "    if n_unique <= 10:\n",
    "        print(\"ALL values:\", unique_vals)\n",
    "    else:\n",
    "        print(\"10 sample values:\", unique_vals[:10])\n"
   ]
  },
  {
   "cell_type": "code",
   "execution_count": 109,
   "metadata": {
    "id": "6CwL6oWj_qRH"
   },
   "outputs": [
    {
     "name": "stdout",
     "output_type": "stream",
     "text": [
      "Rows that would be lost: 605\n",
      "\n",
      "Percentage of rows lost: 4.77%\n",
      "\n"
     ]
    }
   ],
   "source": [
    "\n",
    "# Examining the values for the columns with missing values:\n",
    "#    'Bar', 'CoffeeHouse', 'CarryAway', 'RestaurantLessThan20' and 'Restaurant20To50'\n",
    "# This reveals that there is a 'never' value so we can see that the missing values\n",
    "# are not because the customer never visit those places. Nor it it that the customer\n",
    "# visited them more than the max because there is a category for 'Greater than 8' (gt8).\n",
    "# Therefore they appear to be customers not asnwering the question or a glitch\n",
    "# in collecting the values. We can't effecively subsitute in a value.\n",
    "# \n",
    "# It is important to note what these columns are. Since they tell is how often people\n",
    "# use the faclilites that the coupons are actually for, it seems like crucial data\n",
    "# for finding a predictive model. The model will most likely need these columns.\n",
    "#\n",
    "# Let's see how many rows would be lost if the rows with NaN values were removed.\n",
    "# Not counting the 'car' column which has so few entries.\n",
    "# Let's do a general code,\n",
    "# though we can see from direct observation that the columns with issues are:\n",
    "# 'Bar', 'CoffeeHouse', 'CarryAway', 'RestaurantLessThan20' and 'Restaurant20To50'\n",
    "\n",
    "cols = data.columns.difference(['car'])\n",
    "rows_with_nan = data[data[cols].isnull().any(axis=1)]\n",
    "print(\"Rows that would be lost:\", len(rows_with_nan))\n",
    "\n",
    "# What percentage of the total rows would be removed?\n",
    "percent_lost = (len(rows_with_nan) / len(data)) * 100\n",
    "print()\n",
    "print(f\"Percentage of rows lost: {percent_lost:.2f}%\")\n",
    "print()"
   ]
  },
  {
   "cell_type": "code",
   "execution_count": 110,
   "metadata": {
    "id": "6CwL6oWj_qRH"
   },
   "outputs": [
    {
     "name": "stdout",
     "output_type": "stream",
     "text": [
      "\n",
      "Column: Occupation\n",
      "ALL values: ['Unemployed' 'Architecture & Engineering' 'Student'\n",
      " 'Education&Training&Library' 'Healthcare Support'\n",
      " 'Healthcare Practitioners & Technical' 'Sales & Related' 'Management'\n",
      " 'Arts Design Entertainment Sports & Media' 'Computer & Mathematical'\n",
      " 'Life Physical Social Science' 'Personal Care & Service'\n",
      " 'Community & Social Services' 'Office & Administrative Support'\n",
      " 'Construction & Extraction' 'Legal' 'Retired'\n",
      " 'Installation Maintenance & Repair' 'Transportation & Material Moving'\n",
      " 'Business & Financial' 'Protective Service'\n",
      " 'Food Preparation & Serving Related' 'Production Occupations'\n",
      " 'Building & Grounds Cleaning & Maintenance' 'Farming Fishing & Forestry']\n"
     ]
    }
   ],
   "source": [
    "# OBSERVATIONS:\n",
    "#  Only occupation has more than 10 distinct values (ie 25).\n",
    "#  so let's see what they all are so as to check for issues\n",
    "\n",
    "unique_occupation_vals = data[\"occupation\"].unique()\n",
    "print(f\"\\nColumn: Occupation\")\n",
    "print(\"ALL values:\", unique_occupation_vals)"
   ]
  },
  {
   "cell_type": "code",
   "execution_count": 111,
   "metadata": {
    "id": "6CwL6oWj_qRH"
   },
   "outputs": [],
   "source": [
    "\n",
    "# CONCLUSION so far to missing and problematic data:\n",
    "# A. Car column cannot be effectively used - too few values.\n",
    "# B. There are no empty strings ('') in the data.\n",
    "# C. Statistical outliers with wildly different values do not appear to\n",
    "#    be an issue, because the range of values is not large in each column.\n",
    "#    This can be seen just briefly looking down the unique values output.\n",
    "# D. Only occupation has more than 10 distinct values (ie 25).\n",
    "# E. Every other column has less than 10 distinct values\n",
    "# F. Looking at all the distinct values tells us that ...\n",
    "#    - there's no mess like embeded footnote markers (eg. [23] from Wikipedia)    \n",
    "#    - no others are problematic except the for the columns with NaN\n",
    "#    that we noted before:\n",
    "#     Bar, CoffeeHouse, CarryAway, RestaurantLessThan20 and Restaurant20To50\n",
    "\n",
    "\n"
   ]
  },
  {
   "cell_type": "markdown",
   "metadata": {
    "id": "bSdVSpYB_qRH"
   },
   "source": [
    "3. Decide what to do about your missing data -- drop, replace, other..."
   ]
  },
  {
   "cell_type": "code",
   "execution_count": 112,
   "metadata": {
    "id": "tyvoAC5F_qRI"
   },
   "outputs": [],
   "source": [
    "\n",
    "# DECISIONS ABOUT MISSING DATA ISSUES:\n",
    "\n",
    "# A. Important columns that have missing data:\n",
    "#       Bar, CoffeeHouse, CarryAway, RestaurantLessThan20 and Restaurant20To50\n",
    "#    Those columns will be important for seeing if a voucher helps customers\n",
    "#    to go to one of these places again. We cannot do a suitable substitute\n",
    "#    because seeing the other values shows the customer did not provide\n",
    "#    an answer or the system failed to collect it. There is a value for \n",
    "#    'never' and greater than 8 times ('gt8').\n",
    "# B. Therefore if we remove the 'car' column and then remove the rows with NaN\n",
    "#    then we will only lose 4.77% of data rows which is quite minor.\n",
    "\n",
    "# ACTIONS TO CLEAN UP DATA:\n",
    "# Remove from our data frame the 'car' column (but not from the .csv file)\n",
    "\n",
    "data = data.drop(columns=['car'])\n",
    "\n",
    "# Remove from our data frame rows with no data.\n",
    "# these missing values we have discovered is only in the crucial columns of:\n",
    "#     Bar, CoffeeHouse, CarryAway, RestaurantLessThan20 and Restaurant20To50\n",
    "data = data.dropna()\n",
    "\n",
    "\n",
    "\n"
   ]
  },
  {
   "cell_type": "markdown",
   "metadata": {
    "id": "YE6oJbXd_qRI"
   },
   "source": [
    "4. What proportion of the total observations chose to accept the coupon?\n",
    "\n"
   ]
  },
  {
   "cell_type": "code",
   "execution_count": 113,
   "metadata": {
    "id": "86GGqBTv_qRI"
   },
   "outputs": [
    {
     "name": "stdout",
     "output_type": "stream",
     "text": [
      "Proportion who accepted the coupon: 0.00%\n"
     ]
    }
   ],
   "source": [
    "\n",
    "# Proportion of 'Y' column being 'Yes':\n",
    "proportion_accept = len(data[data['Y'] == 'Yes']) / len(data)\n",
    "\n",
    "# Expressing this as a percentage to 2 decminal places:\n",
    "print(f\"Proportion who accepted the coupon: {proportion_accept:.2%}\")\n"
   ]
  },
  {
   "cell_type": "markdown",
   "metadata": {
    "id": "vflz0DoE_qRI"
   },
   "source": [
    "5. Use a bar plot to visualize the `coupon` column."
   ]
  },
  {
   "cell_type": "code",
   "execution_count": 114,
   "metadata": {
    "id": "dHFh3E45_qRI"
   },
   "outputs": [
    {
     "data": {
      "image/png": "[encoded data removed]",
      "text/plain": [
       "<Figure size 640x480 with 1 Axes>"
      ]
     },
     "metadata": {},
     "output_type": "display_data"
    }
   ],
   "source": [
    "\n",
    "# Using Seaborn to plot the bar chart:\n",
    "sns.barplot(\n",
    "    x='coupon',  # X-Axis\n",
    "    y='Y',       # Y-Axis\n",
    "    data=data,\n",
    "    # Without this 'order' below, the two restaurant columns were not adjacent:\n",
    "    order=['Carry out & Take away',\n",
    "           'Restaurant(<20)', 'Restaurant(20-50)',\n",
    "           'Bar','Coffee House']\n",
    ")\n",
    "plt.xticks(rotation=90)   # The X-Axis labels overlapped without this rotation.\n",
    "plt.ylabel(\"Proportion accepting the coupon\")\n",
    "plt.title(\"Coupon Acceptance Rates by Coupon Type\")\n",
    "plt.show()"
   ]
  },
  {
   "cell_type": "code",
   "execution_count": 115,
   "metadata": {
    "id": "dHFh3E45_qRI"
   },
   "outputs": [],
   "source": [
    "\n",
    "# Observation:\n",
    "\n",
    "# 'Carry out & Take away' and 'Restaurant(<20)' have the highest relative raw acceptance\n",
    "#  without taking into account if other data increases this or decreased it.\n",
    "#  A rate of over 0.7 seems quite high overall for acceptance.\n"
   ]
  },
  {
   "cell_type": "markdown",
   "metadata": {
    "id": "Qw4lCyx2_qRI"
   },
   "source": [
    "6. Use a histogram to visualize the temperature column."
   ]
  },
  {
   "cell_type": "code",
   "execution_count": 116,
   "metadata": {
    "id": "Yg9Anv71_qRI"
   },
   "outputs": [
    {
     "data": {
      "image/png": "[encoded data removed]",
      "text/plain": [
       "<Figure size 600x400 with 1 Axes>"
      ]
     },
     "metadata": {},
     "output_type": "display_data"
    }
   ],
   "source": [
    "# Using Matplotlib to do the temperature histogram\n",
    "\n",
    "# 1. Set the figure size\n",
    "plt.figure(figsize=(6,4))\n",
    "\n",
    "# 2. Create the histogram (automatic bins, black edges)\n",
    "plt.hist(vals, bins='auto', edgecolor='black')\n",
    "\n",
    "# 3. Add labels above each bar\n",
    "# Note we know from the data investigation\n",
    "# that there are only 3 distinct temperatures: 30,55,80\n",
    "for t in vals.unique():      # Alernatively ... for t in [30, 55, 80]:\n",
    "    count = (vals == t).sum()   \n",
    "    plt.text(t, count + 50, f\"{t}°F\", ha='center')\n",
    "\n",
    "# 4. Label the X-axis\n",
    "plt.xlabel('Temperature (°F)')\n",
    "\n",
    "# 5. Label the Y-axis\n",
    "plt.ylabel('Count')\n",
    "\n",
    "# 6. Add a title\n",
    "plt.title('Distribution of Temperature')\n",
    "\n",
    "# 7. Display the plot\n",
    "plt.show()"
   ]
  },
  {
   "cell_type": "code",
   "execution_count": null,
   "metadata": {
    "id": "zLtOaJQk_qRI"
   },
   "outputs": [],
   "source": []
  },
  {
   "cell_type": "code",
   "execution_count": null,
   "metadata": {
    "id": "7GBHZKBp_qRJ"
   },
   "outputs": [],
   "source": []
  },
  {
   "cell_type": "code",
   "execution_count": null,
   "metadata": {
    "id": "Y5nBUA-j_qRJ"
   },
   "outputs": [],
   "source": []
  },
  {
   "cell_type": "code",
   "execution_count": null,
   "metadata": {
    "id": "ShcUC-Vm_qRJ"
   },
   "outputs": [],
   "source": [
    "\n"
   ]
  },
  {
   "cell_type": "markdown",
   "metadata": {
    "id": "FupfgeJk_qRJ"
   },
   "source": [
    "**Investigating the Bar Coupons**\n",
    "\n",
    "Now, we will lead you through an exploration of just the bar related coupons.  \n",
    "\n",
    "1. Create a new `DataFrame` that contains just the bar coupons.\n"
   ]
  },
  {
   "cell_type": "code",
   "execution_count": 117,
   "metadata": {
    "id": "tMBlWuGq_qRJ"
   },
   "outputs": [
    {
     "name": "stdout",
     "output_type": "stream",
     "text": [
      "<class 'pandas.core.frame.DataFrame'>\n",
      "Index: 1913 entries, 24 to 12682\n",
      "Data columns (total 25 columns):\n",
      " #   Column                Non-Null Count  Dtype \n",
      "---  ------                --------------  ----- \n",
      " 0   destination           1913 non-null   object\n",
      " 1   passanger             1913 non-null   object\n",
      " 2   weather               1913 non-null   object\n",
      " 3   temperature           1913 non-null   int64 \n",
      " 4   time                  1913 non-null   object\n",
      " 5   coupon                1913 non-null   object\n",
      " 6   expiration            1913 non-null   object\n",
      " 7   gender                1913 non-null   object\n",
      " 8   age                   1913 non-null   object\n",
      " 9   maritalStatus         1913 non-null   object\n",
      " 10  has_children          1913 non-null   int64 \n",
      " 11  education             1913 non-null   object\n",
      " 12  occupation            1913 non-null   object\n",
      " 13  income                1913 non-null   object\n",
      " 14  Bar                   1913 non-null   object\n",
      " 15  CoffeeHouse           1913 non-null   object\n",
      " 16  CarryAway             1913 non-null   object\n",
      " 17  RestaurantLessThan20  1913 non-null   object\n",
      " 18  Restaurant20To50      1913 non-null   object\n",
      " 19  toCoupon_GEQ5min      1913 non-null   int64 \n",
      " 20  toCoupon_GEQ15min     1913 non-null   int64 \n",
      " 21  toCoupon_GEQ25min     1913 non-null   int64 \n",
      " 22  direction_same        1913 non-null   int64 \n",
      " 23  direction_opp         1913 non-null   int64 \n",
      " 24  Y                     1913 non-null   int64 \n",
      "dtypes: int64(8), object(17)\n",
      "memory usage: 388.6+ KB\n"
     ]
    }
   ],
   "source": [
    "\n",
    "# Using a Boolean Mask to select just the rows where 'coupon' has 'Bar'\n",
    "\n",
    "bar_coupons = data[data['coupon'] == 'Bar']\n",
    "bar_coupons.info()\n"
   ]
  },
  {
   "cell_type": "markdown",
   "metadata": {
    "id": "8ue6uCqf_qRJ"
   },
   "source": [
    "2. What proportion of bar coupons were accepted?\n"
   ]
  },
  {
   "cell_type": "code",
   "execution_count": 118,
   "metadata": {
    "id": "hSdte8Mi_qRK"
   },
   "outputs": [
    {
     "name": "stdout",
     "output_type": "stream",
     "text": [
      "Proportion who accepted the 'Bar' coupon: 41.19%\n"
     ]
    }
   ],
   "source": [
    "# Having decided earlier to remove the rows with no values,\n",
    "# I can now see that the result of this exercise below will quite\n",
    "# probably be affected. So I may not match other students answers.\n",
    "# However, when we get to the question 4 below, the missing values\n",
    "# may well have skewed the result depending on how it is calculated\n",
    "# and a decision might have needed to have been made anyway.\n",
    "\n",
    "# Proportion of 'Y' column being 'Yes' for the bar_coupons data frame:\n",
    "proportion_bar_accept = len(bar_coupons[bar_coupons['Y'] == 1]) / len(bar_coupons)\n",
    "\n",
    "# Expressing this as a percentage to 2 decminal places:\n",
    "print(f\"Proportion who accepted the 'Bar' coupon: {proportion_bar_accept:.2%}\")"
   ]
  },
  {
   "cell_type": "markdown",
   "metadata": {
    "id": "85nA_iEi_qRK"
   },
   "source": [
    "3. Compare the acceptance rate between those who went to a bar 3 or fewer times a month to those who went more.\n"
   ]
  },
  {
   "cell_type": "code",
   "execution_count": 119,
   "metadata": {
    "id": "LBOrN-XM_qRK"
   },
   "outputs": [
    {
     "name": "stdout",
     "output_type": "stream",
     "text": [
      "\n",
      "Acceptance rate (≤3 bar visits/month): 37.27%\n",
      "Acceptance rate (>3 bar visits/month): 76.17%\n",
      "\n"
     ]
    }
   ],
   "source": [
    "# Orirginal \"ALL values for bar\" : ['never' 'less1' '1~3' 'gt8' nan '4~8']\n",
    "# If the NaN values\n",
    "\n",
    "# 3 or fewer times a month\n",
    "low_bar_use = bar_coupons[bar_coupons['Bar'].isin(['never', 'less1', '1~3'])]\n",
    "low_accept = len(low_bar_use[low_bar_use['Y'] == 1]) / len(low_bar_use)\n",
    "\n",
    "# More than 3 times a month\n",
    "high_bar_use = bar_coupons[bar_coupons['Bar'].isin(['4~8', 'gt8'])]\n",
    "high_accept = len(high_bar_use[high_bar_use['Y'] == 1]) / len(high_bar_use)\n",
    "\n",
    "print()\n",
    "print(f\"Acceptance rate (≤3 bar visits/month): {low_accept:.2%}\")\n",
    "print(f\"Acceptance rate (>3 bar visits/month): {high_accept:.2%}\")\n",
    "print()"
   ]
  },
  {
   "cell_type": "markdown",
   "metadata": {
    "id": "RBgcQwH4_qRK"
   },
   "source": [
    "4. Compare the acceptance rate between drivers who go to a bar more than once a month and are over the age of 25 to the all others.  Is there a difference?\n"
   ]
  },
  {
   "cell_type": "code",
   "execution_count": 120,
   "metadata": {
    "id": "bf28bbeX_qRK"
   },
   "outputs": [
    {
     "name": "stdout",
     "output_type": "stream",
     "text": [
      "Acceptance rate (Bar ≥1/month & age>25): 63.93%\n",
      "Acceptance rate (All others): 37.87%\n"
     ]
    }
   ],
   "source": [
    "# Unfortunately there is an error in this question or a mismatch with the data,\n",
    "# because the finest/narrowest breakdown of frequency to the bar is:\n",
    "# either less than one (less1) and one to three (1~3).\n",
    "# Therefore we cannot determine more than once a month,\n",
    "# rather we would have to determine going to the bar 1 or more times per month.\n",
    "# So the question should be:\n",
    "# \"Compare the acceptance rate between drivers who go to a bar once or more than once\n",
    "#  a month and are over the age of 25 to the all others. Is there a difference?\"\n",
    "# \n",
    "# Secondly it is important to note that removing the cells with no data in 'Bar'\n",
    "# is important before this calculation since comparing to \"all others\" is problematic\n",
    "# if you have missing data in the 'Bar' column. So not deleting the rows with blanks\n",
    "# would imply that the 'all other is larger' but in fact there are 'Bar' we simply do not know for the blank\n",
    "# bar frequency.\n",
    "\n",
    "# Drivers who go to a bar ONCE or more per month (1~3, 4~8, gt8) and are over 25\n",
    "group1 = bar_coupons[\n",
    "    (bar_coupons['Bar'].isin(['1~3', '4~8', 'gt8'])) &\n",
    "    (~bar_coupons['age'].isin(['21', 'below21', '26']))\n",
    "]\n",
    "group1_accept = len(group1[group1['Y'] == 1]) / len(group1)\n",
    "\n",
    "# All other drivers -\n",
    "# This .drop() function works because I removed the rows with no values for 'Bar'.\n",
    "# If those rows were not removed then .drop() would be counting empty values as\n",
    "# though they had data (when they don't).\n",
    "group2 = bar_coupons.drop(group1.index)\n",
    "group2_accept = len(group2[group2['Y'] == 1]) / len(group2)\n",
    "\n",
    "print(f\"Acceptance rate (Bar ≥1/month & age>25): {group1_accept:.2%}\")\n",
    "print(f\"Acceptance rate (All others): {group2_accept:.2%}\")"
   ]
  },
  {
   "cell_type": "markdown",
   "metadata": {
    "id": "S4RKT4PJ_qRK"
   },
   "source": [
    "5. Use the same process to compare the acceptance rate between drivers who go to bars more than once a month and had passengers that were not a kid and had occupations other than farming, fishing, or forestry.\n"
   ]
  },
  {
   "cell_type": "code",
   "execution_count": 121,
   "metadata": {
    "id": "sENaI2Tg_qRK"
   },
   "outputs": [
    {
     "name": "stdout",
     "output_type": "stream",
     "text": [
      "Acceptance rate (Group 3 — ≥1/mo bar, no kids, non-Farm/Fish/Forestry): 70.94%\n",
      "Acceptance rate (Group 4 — all others):                                 29.79%\n"
     ]
    }
   ],
   "source": [
    "# This is a badly worded question compared to the last question.\n",
    "# What is missing is \"to the all others\". Without \"to the all others\" it sounds like \n",
    "#    we are to compare A 'AND' B 'AND' C where\n",
    "#    A = \"who go to bars more than once a month\"\n",
    "#    B = \"had passengers that were not a kid\"\n",
    "#    C = \"had occupations other than farming, fishing, or forestry\"\n",
    "# But I am assuming you meant:\n",
    "#       drivers who meet A & B & C compared \"to/with the all other drivers\" \n",
    "# \n",
    "# As for the last question ...\n",
    "# Unfortunately there is an error in this question or a mismatch with the data,\n",
    "# because the finest/narrowest breakdown of frequency to the bar is:\n",
    "# either less than one (less1) and one to three (1~3).\n",
    "# Therefore we cannot determine more than once a month,\n",
    "# rather we would have to determine going to the bar 1 or more times per month.\n",
    "# So onc again below is for once a month bar visits or more etc etc.\n",
    "\n",
    "# Group 3: bar visits ≥1/month, passenger not a kid, occupation not Farming/Fishing/Forestry\n",
    "group3 = bar_coupons[\n",
    "    (bar_coupons['Bar'].isin(['1~3', '4~8', 'gt8'])) &\n",
    "    (bar_coupons['passanger'] != 'Kid(s)') &\n",
    "    (bar_coupons['occupation'] != 'Farming Fishing & Forestry')\n",
    "]\n",
    "group3_accept = len(group3[group3['Y'] == 1]) / len(group3) if len(group3) else float('nan')\n",
    "\n",
    "# Group 4: all others\n",
    "group4 = bar_coupons.drop(group3.index)\n",
    "group4_accept = len(group4[group4['Y'] == 1]) / len(group4) if len(group4) else float('nan')\n",
    "\n",
    "print(f\"Acceptance rate (Group 3 — ≥1/mo bar, no kids, non-Farm/Fish/Forestry): {group3_accept:.2%}\")\n",
    "print(f\"Acceptance rate (Group 4 — all others):                                 {group4_accept:.2%}\")"
   ]
  },
  {
   "cell_type": "markdown",
   "metadata": {
    "id": "n2LIUTil_qRK"
   },
   "source": [
    "6. Compare the acceptance rates between those drivers who:\n",
    "\n",
    "- go to bars more than once a month, had passengers that were not a kid, and were not widowed *OR*\n",
    "- go to bars more than once a month and are under the age of 30 *OR*\n",
    "- go to cheap restaurants more than 4 times a month and income is less than 50K.\n",
    "\n"
   ]
  },
  {
   "cell_type": "code",
   "execution_count": 122,
   "metadata": {
    "id": "aK_wEzx7_qRK"
   },
   "outputs": [
    {
     "name": "stdout",
     "output_type": "stream",
     "text": [
      "Acceptance rate (Group 5 — meets any of the conditions): 58.71%\n",
      "Acceptance rate (Group 6 — all others):                29.99%\n"
     ]
    }
   ],
   "source": [
    "The result for the code below does not add up to 100% and so seems to have an error:\n",
    "\n",
    "Acceptance rate (Group 5 — meets any of the conditions): 58.71%\n",
    "Acceptance rate (Group 6 — all others):                  29.99%\n",
    "\n",
    "# This is a very badly worded question. It is not clear English unfortunately.\n",
    "# Are those obscure 'OR's meant to be 'with'\n",
    "#      ie compare acceptance rates for Line A 'WITH' Line B 'WITH' Line C?\n",
    "# Whenever you have a sentence saying \" Compare ... between ...\" it needs to have two or more\n",
    "#     things separated with 'with' - that need to be compared to each other.\n",
    "# That question is not clear.\n",
    "# So in English we do not say \"compare A or B\", we say compare \"A with B\".\n",
    "# Or it Q6 looking for one acceptance rate that meets all the 'and's and 'or's\n",
    "#   and then compare that to everyone who is not in that one highly specified set?\n",
    "# Assuming it is the latter where we are comparing those that meet the full specifications to \n",
    "# everyone else, I will continue on that basis ...\n",
    "\n",
    "# Third & fourth time this issue of \"more than once a month\" has been in a question. So ...\n",
    "\n",
    "# So Question 6 should be ...\n",
    "# Compare the acceptance rates between those drivers who:\n",
    "# go to bars ONCE A MONTH OR MORE , had passengers that were not a kid, and were not widowed OR\n",
    "# go to bars ONCE A MONTH OR MORE and are under the age of 30 OR\n",
    "# go to cheap restaurants more than 4 times a month and income is less than 50K.\n",
    "\n",
    "# So the code:\n",
    "# Group 5: drivers who satisfy ANY (based on the 'or') of these:\n",
    "# 1) go to bars ≥1/month, passengers not a kid, and not widowed\n",
    "# 2) go to bars ≥1/month and are under 30\n",
    "# 3) go to cheap restaurants (>4x/month) and income <50K\n",
    "group5 = bar_coupons[\n",
    "    (\n",
    "        (bar_coupons['Bar'].isin(['1~3', '4~8', 'gt8'])) &\n",
    "        (bar_coupons['passanger'] != 'Kid(s)') &\n",
    "        (bar_coupons['maritalStatus'] != 'Widowed')\n",
    "    )\n",
    "    |\n",
    "    (\n",
    "        (bar_coupons['Bar'].isin(['1~3', '4~8', 'gt8'])) &\n",
    "        (bar_coupons['age'].isin(['21', '26', 'below21']))\n",
    "    )\n",
    "    |\n",
    "    (\n",
    "        (bar_coupons['RestaurantLessThan20'].isin(['4~8', 'gt8'])) &\n",
    "        (bar_coupons['income'].isin([\n",
    "            'Less than $12500', '$12500 - $24999',\n",
    "            '$25000 - $37499', '$37500 - $49999'\n",
    "        ]))\n",
    "    )\n",
    "]\n",
    "\n",
    "group5_accept = len(group5[group5['Y'] == 1]) / len(group5) if len(group5) else float('nan')\n",
    "\n",
    "# Group 6: all others\n",
    "group6 = bar_coupons.drop(group5.index)\n",
    "group6_accept = len(group6[group6['Y'] == 1]) / len(group6) if len(group6) else float('nan')\n",
    "\n",
    "print(f\"Acceptance rate (Group 5 — meets any of the conditions): {group5_accept:.2%}\")\n",
    "print(f\"Acceptance rate (Group 6 — all others):                {group6_accept:.2%}\")\n"
   ]
  },
  {
   "cell_type": "markdown",
   "metadata": {
    "id": "v3fL3QkO_qRK"
   },
   "source": [
    "7.  Based on these observations, what do you hypothesize about drivers who accepted the bar coupons?"
   ]
  },
  {
   "cell_type": "code",
   "execution_count": 124,
   "metadata": {
    "id": "Y48naDFh_qRL"
   },
   "outputs": [],
   "source": [
    "# Investigating the Bar Coupons:\n",
    "\n",
    "# From Q2:\n",
    "#         Proportion who accepted the 'Bar' coupon: 41.19%\n",
    "# CONCLUSION:\n",
    "# From this, we get an overall base number to compare the figures below\n",
    "#\n",
    "# From Q3:\n",
    "#         Acceptance rate (≤3 bar visits/month): 37.27%\n",
    "#         Acceptance rate (>3 bar visits/month): 76.17%\n",
    "# CONCLUSION:\n",
    "# From this, we see a quite high rate of 76.17% among those who already\n",
    "# frequent a bar more than three times a month.\n",
    "# This is a strong indicator or likeliness to accept the coupon.\n",
    "#\n",
    "# From Q4:\n",
    "#         Acceptance rate (Bar ≥1/month & age>25): 63.93%\n",
    "#         Acceptance rate (All others): 37.87%\n",
    "# CONCLUSION:\n",
    "# From this, we see a higher rate than the base for going to the bar\n",
    "# once a month or more and being over 25. This is less than\n",
    "# This is less than for Q3 where the frequency or bar visits is more than 3.\n",
    "# Adding in the over 25 makes it hard to compare to other to the other figures.\n",
    "# The age may lower or increase the rate. We would want to see a figure \n",
    "# without that age category to see if it goes up or down.\n",
    "#\n",
    "# From Q5:\n",
    "#         Acceptance rate (Group 3 — ≥1/mo bar, no kids, non-Farm/Fish/Forestry): 70.94%\n",
    "#         Acceptance rate (Group 4 — all others):                                 29.79%\n",
    "# CONCLUSION: \n",
    "# What we see in these two figures is that the first also has people who are at the bar once \n",
    "# a month or more and yet the figure is higher than Q4 (also once a month or more).\n",
    "# Not having kids in the car who can't attend the bar (on that trip) makes sense.\n",
    "# Also farmers/fishermen/forestry have long distances and so this may potentially\n",
    "# lower acceptance rate but it is hard to tell when so many values are\n",
    "#\n",
    "#\n",
    "# OVERALL CONCLUSION:\n",
    "# The regular bar attendance of more than 3 visits is the most significant\n",
    "# predictor or whether a coupon for a bar will be accepted.\n"
   ]
  },
  {
   "cell_type": "markdown",
   "metadata": {
    "id": "r4Hu1zOb_qRL"
   },
   "source": [
    "### Independent Investigation\n",
    "\n",
    "Using the bar coupon example as motivation, you are to explore one of the other coupon groups and try to determine the characteristics of passengers who accept the coupons.  "
   ]
  },
  {
   "cell_type": "code",
   "execution_count": null,
   "metadata": {
    "id": "0c71cQhu_qRL"
   },
   "outputs": [],
   "source": []
  },
  {
   "cell_type": "code",
   "execution_count": null,
   "metadata": {
    "id": "QEsBkvIN_qRL"
   },
   "outputs": [],
   "source": []
  },
  {
   "cell_type": "code",
   "execution_count": null,
   "metadata": {
    "id": "fTC2WGE3_qRL"
   },
   "outputs": [],
   "source": []
  },
  {
   "cell_type": "code",
   "execution_count": null,
   "metadata": {
    "id": "RrqUWn7d_qRL"
   },
   "outputs": [],
   "source": []
  },
  {
   "cell_type": "code",
   "execution_count": null,
   "metadata": {
    "id": "_oykf8YP_qRL"
   },
   "outputs": [],
   "source": []
  }
 ],
 "metadata": {
  "colab": {
   "provenance": []
  },
  "kernelspec": {
   "display_name": "Python (conda base)",
   "language": "python",
   "name": "conda-base"
  },
  "language_info": {
   "codemirror_mode": {
    "name": "ipython",
    "version": 3
   },
   "file_extension": ".py",
   "mimetype": "text/x-python",
   "name": "python",
   "nbconvert_exporter": "python",
   "pygments_lexer": "ipython3",
   "version": "3.13.5"
  }
 },
 "nbformat": 4,
 "nbformat_minor": 4
}
